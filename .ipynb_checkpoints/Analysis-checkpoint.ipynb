{
 "cells": [
  {
   "cell_type": "code",
   "execution_count": 1,
   "metadata": {
    "collapsed": true
   },
   "outputs": [],
   "source": [
    "import pandas as pd\n",
    "import seaborn as sns\n",
    "import matplotlib.pyplot as plt\n",
    "\n",
    "%matplotlib notebook\n"
   ]
  },
  {
   "cell_type": "code",
   "execution_count": 23,
   "metadata": {
    "collapsed": false
   },
   "outputs": [],
   "source": [
    "antifraud = pd.read_csv(\"./src/antifraud.log\", names=['time', 'description', 'row'], parse_dates=['time'])\n",
    "bfs_antifraud = pd.read_csv(\"./src/antifraud_bfs.log\", names=['time', 'description', 'row'], parse_dates=['time'])\n",
    "bi_antifraud = pd.read_csv(\"./src/bi_antifraud.log\", names=['time', 'description', 'row'], parse_dates=['time'])"
   ]
  },
  {
   "cell_type": "code",
   "execution_count": 24,
   "metadata": {
    "collapsed": false
   },
   "outputs": [
    {
     "data": {
      "text/html": [
       "<div>\n",
       "<table border=\"1\" class=\"dataframe\">\n",
       "  <thead>\n",
       "    <tr style=\"text-align: right;\">\n",
       "      <th></th>\n",
       "      <th>time</th>\n",
       "      <th>description</th>\n",
       "      <th>row</th>\n",
       "    </tr>\n",
       "  </thead>\n",
       "  <tbody>\n",
       "    <tr>\n",
       "      <th>0</th>\n",
       "      <td>2016-11-09 00:07:52.621</td>\n",
       "      <td>INFO Working on row</td>\n",
       "      <td>10000</td>\n",
       "    </tr>\n",
       "    <tr>\n",
       "      <th>1</th>\n",
       "      <td>2016-11-09 00:07:52.668</td>\n",
       "      <td>INFO Working on row</td>\n",
       "      <td>20000</td>\n",
       "    </tr>\n",
       "    <tr>\n",
       "      <th>2</th>\n",
       "      <td>2016-11-09 00:07:52.717</td>\n",
       "      <td>INFO Working on row</td>\n",
       "      <td>30000</td>\n",
       "    </tr>\n",
       "    <tr>\n",
       "      <th>3</th>\n",
       "      <td>2016-11-09 00:07:52.763</td>\n",
       "      <td>INFO Working on row</td>\n",
       "      <td>40000</td>\n",
       "    </tr>\n",
       "    <tr>\n",
       "      <th>4</th>\n",
       "      <td>2016-11-09 00:07:52.812</td>\n",
       "      <td>INFO Working on row</td>\n",
       "      <td>50000</td>\n",
       "    </tr>\n",
       "  </tbody>\n",
       "</table>\n",
       "</div>"
      ],
      "text/plain": [
       "                     time           description    row\n",
       "0 2016-11-09 00:07:52.621   INFO Working on row  10000\n",
       "1 2016-11-09 00:07:52.668   INFO Working on row  20000\n",
       "2 2016-11-09 00:07:52.717   INFO Working on row  30000\n",
       "3 2016-11-09 00:07:52.763   INFO Working on row  40000\n",
       "4 2016-11-09 00:07:52.812   INFO Working on row  50000"
      ]
     },
     "execution_count": 24,
     "metadata": {},
     "output_type": "execute_result"
    }
   ],
   "source": [
    "antifraud.head()"
   ]
  },
  {
   "cell_type": "code",
   "execution_count": 58,
   "metadata": {
    "collapsed": false
   },
   "outputs": [],
   "source": [
    "intervals = pd.DataFrame()\n",
    "intervals['exists_edge'] = (antifraud['time'] - antifraud['time'].shift(1))\n",
    "intervals['bfs_d1'] = (bfs_antifraud['time'] - bfs_antifraud['time'].shift(1))\n",
    "intervals['bi_bfs_d1'] = (bi_antifraud['time'] - bi_antifraud['time'].shift(1))\n",
    "intervals = intervals.drop(0,0)"
   ]
  },
  {
   "cell_type": "code",
   "execution_count": 62,
   "metadata": {
    "collapsed": false
   },
   "outputs": [],
   "source": [
    "for i in range(1, intervals.shape[0]):\n",
    "    intervals['exists_edge'].ix[i] = intervals['exists_edge'].ix[i].total_seconds()\n",
    "    intervals['bfs_d1'].ix[i] = intervals['bfs_d1'].ix[i].total_seconds()\n",
    "    intervals['bi_bfs_d1'].ix[i] = intervals['bi_bfs_d1'].ix[i].total_seconds()"
   ]
  },
  {
   "cell_type": "code",
   "execution_count": 54,
   "metadata": {
    "collapsed": false
   },
   "outputs": [
    {
     "data": {
      "text/plain": [
       "0.047"
      ]
     },
     "execution_count": 54,
     "metadata": {},
     "output_type": "execute_result"
    }
   ],
   "source": [
    "intervals['exists_edge'].ix[1].total_seconds()"
   ]
  },
  {
   "cell_type": "code",
   "execution_count": 31,
   "metadata": {
    "collapsed": true
   },
   "outputs": [],
   "source": [
    "t = bi_antifraud['time'].ix[2] - bi_antifraud['time'].ix[1]"
   ]
  },
  {
   "cell_type": "code",
   "execution_count": 32,
   "metadata": {
    "collapsed": false
   },
   "outputs": [
    {
     "data": {
      "text/plain": [
       "0.7140000000000001"
      ]
     },
     "execution_count": 32,
     "metadata": {},
     "output_type": "execute_result"
    }
   ],
   "source": [
    "t.total_seconds()"
   ]
  },
  {
   "cell_type": "code",
   "execution_count": 60,
   "metadata": {
    "collapsed": false
   },
   "outputs": [
    {
     "data": {
      "text/plain": [
       "(299, 3)"
      ]
     },
     "execution_count": 60,
     "metadata": {},
     "output_type": "execute_result"
    }
   ],
   "source": [
    "intervals.shape"
   ]
  },
  {
   "cell_type": "code",
   "execution_count": null,
   "metadata": {
    "collapsed": true
   },
   "outputs": [],
   "source": []
  }
 ],
 "metadata": {
  "kernelspec": {
   "display_name": "Python 2",
   "language": "python",
   "name": "python2"
  },
  "language_info": {
   "codemirror_mode": {
    "name": "ipython",
    "version": 2
   },
   "file_extension": ".py",
   "mimetype": "text/x-python",
   "name": "python",
   "nbconvert_exporter": "python",
   "pygments_lexer": "ipython2",
   "version": "2.7.11"
  }
 },
 "nbformat": 4,
 "nbformat_minor": 0
}
